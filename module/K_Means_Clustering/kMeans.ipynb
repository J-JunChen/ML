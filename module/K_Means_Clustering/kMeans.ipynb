{
 "cells": [
  {
   "cell_type": "code",
   "execution_count": 1,
   "metadata": {},
   "outputs": [],
   "source": [
    "import numpy as np"
   ]
  },
  {
   "cell_type": "code",
   "execution_count": 15,
   "metadata": {},
   "outputs": [],
   "source": [
    "def loadDataSet(fileName):\n",
    "    dataMat =[]\n",
    "    fr = open(fileName)\n",
    "    for line in fr.readlines():\n",
    "        curLine = line.strip().split('\\t')\n",
    "#         print('curLine:',curLine)\n",
    "        fltLine = list(map(float, curLine)) # map all elements to float()s\n",
    "#         print('fltLine:',fltLine)\n",
    "        dataMat.append(fltLine)\n",
    "    return dataMat\n",
    "\n",
    "def distEclud(vecA, vecB):\n",
    "    return np.sqrt(np.sum(np.power(vecA - vecB, 2)))\n",
    "\n",
    "def randCent(dataSet, k): # initiaze k clusters\n",
    "    n = np.shape(dataSet)[1]\n",
    "    centroids = np.mat(np.zeros((k,n))) # create centroid mat\n",
    "    for j in range(n): # create random cluster centers, within bounds of each dimension\n",
    "        minJ = min(dataSet[:,j])\n",
    "        rangeJ = float(max(dataSet[:,j]) - minJ)\n",
    "        centroids[:,j] = np.mat(minJ + rangeJ * np.random.rand(k,1))\n",
    "    return centroids"
   ]
  },
  {
   "cell_type": "code",
   "execution_count": 21,
   "metadata": {},
   "outputs": [
    {
     "name": "stdout",
     "output_type": "stream",
     "text": [
      "Euclidean distance: 5.184632816681332\n"
     ]
    },
    {
     "data": {
      "text/plain": [
       "matrix([[-3.51137731, -2.93170442],\n",
       "        [ 0.79471657,  2.05171113]])"
      ]
     },
     "execution_count": 21,
     "metadata": {},
     "output_type": "execute_result"
    }
   ],
   "source": [
    "dataMat = np.mat(loadDataSet('testSet.txt'))\n",
    "print('Euclidean distance:',distEclud(dataMat[0], dataMat[1]))\n",
    "randCent(dataMat, 2)   # 随机初始化 k=2 的中心点"
   ]
  },
  {
   "cell_type": "markdown",
   "metadata": {},
   "source": [
    "## The k-means clustering algorithm"
   ]
  },
  {
   "cell_type": "code",
   "execution_count": 61,
   "metadata": {},
   "outputs": [],
   "source": [
    "def kMeans(dataSet, k, disMeans=distEclud, createCent=randCent):\n",
    "    m = np.shape(dataSet)[0]\n",
    "    # create mat to assign data points to a centroid, also holds SE of each point\n",
    "    clusterAssment = np.mat(np.zeros((m,2)))\n",
    "    \n",
    "    centroids = createCent(dataSet, k)\n",
    "    clusterChanged = True\n",
    "    while clusterChanged:\n",
    "        clusterChanged = False\n",
    "        for i in range(m):  # for each data point assign it to the closest centroid\n",
    "            minDist = np.inf; minIndex = -1\n",
    "            for j in range(k):\n",
    "                distJI = disMeans(centroids[j,:], dataSet[i,:])\n",
    "                if distJI < minDist:\n",
    "                    minDist = distJI\n",
    "                    minIndex = j\n",
    "            if clusterAssment[i,0] != minIndex:  # 判断输入某个cluster是否改变\n",
    "                clusterChanged = True\n",
    "            clusterAssment[i,:] = minIndex, minDist**2  # distance从 sqrt 到 **2\n",
    "        print('updated centroids:\\n',centroids)\n",
    "        for cent in range(k):  # recalculate centroids\n",
    "            ptsInClust = dataSet[np.nonzero(clusterAssment[:,0].A==cent)[0]] # get all the point in this cluster\n",
    "#             print('ptsInClust:',ptsInClust)\n",
    "            centroids[cent,:] = np.mean(ptsInClust, axis=0) # assign centroid to mean\n",
    "    return centroids, clusterAssment"
   ]
  },
  {
   "cell_type": "code",
   "execution_count": 57,
   "metadata": {},
   "outputs": [
    {
     "name": "stdout",
     "output_type": "stream",
     "text": [
      "update centroids:\n",
      " [[ 1.97007544 -0.39150035]\n",
      " [-0.11120672  3.8821593 ]\n",
      " [-1.82693894 -1.05742956]\n",
      " [ 0.45703106  1.17550678]]\n",
      "update centroids:\n",
      " [[ 3.02229735 -1.91511343]\n",
      " [-0.63717554  3.40279115]\n",
      " [-3.19304979 -2.42299775]\n",
      " [ 2.19969471  2.581583  ]]\n",
      "update centroids:\n",
      " [[ 2.80293085 -2.7315146 ]\n",
      " [-2.45009747  2.89275747]\n",
      " [-3.34887714 -2.76960033]\n",
      " [ 2.6265299   3.10868015]]\n",
      "update centroids:\n",
      " [[ 2.80293085 -2.7315146 ]\n",
      " [-2.46154315  2.78737555]\n",
      " [-3.38237045 -2.9473363 ]\n",
      " [ 2.6265299   3.10868015]]\n"
     ]
    }
   ],
   "source": [
    "myCentroids, clusterAssment = kMeans(dataMat, 4)"
   ]
  },
  {
   "cell_type": "code",
   "execution_count": 58,
   "metadata": {},
   "outputs": [
    {
     "data": {
      "text/plain": [
       "matrix([[ 2.80293085, -2.7315146 ],\n",
       "        [-2.46154315,  2.78737555],\n",
       "        [-3.38237045, -2.9473363 ],\n",
       "        [ 2.6265299 ,  3.10868015]])"
      ]
     },
     "execution_count": 58,
     "metadata": {},
     "output_type": "execute_result"
    }
   ],
   "source": [
    "myCentroids  # After update"
   ]
  },
  {
   "cell_type": "code",
   "execution_count": 75,
   "metadata": {},
   "outputs": [],
   "source": [
    "import matplotlib.pyplot as plt\n",
    "def showPlt(dataMat, alg=kMeans, numClust=4):\n",
    "    myCentroids, clustAssment = alg(dataMat, numClust)\n",
    "    fig = plt.figure()\n",
    "    rect = [0.1, 0.1, 0.8, 0.8]\n",
    "    scatterMarkers=['s', 'o', '^', '8', 'p', \\\n",
    "                    'd', 'v', 'h', '>', '<']\n",
    "    ax = fig.add_subplot(111)\n",
    "    for i in range(numClust):  # each point belong to one of cluster\n",
    "        ptsInCurrCluster = dataMat[np.nonzero(clustAssment[:,0].A==i)[0],:]\n",
    "        markerStyle = scatterMarkers[i % len(scatterMarkers)]\n",
    "        ax.scatter(ptsInCurrCluster[:,0].flatten().A[0], ptsInCurrCluster[:,1].flatten().A[0], marker=markerStyle, s=90)\n",
    "    ax.scatter(myCentroids[:,0].flatten().A[0], myCentroids[:,1].flatten().A[0], marker='+', s=300)\n",
    "    plt.savefig(\"\")\n",
    "    plt.show()"
   ]
  },
  {
   "cell_type": "code",
   "execution_count": 91,
   "metadata": {},
   "outputs": [
    {
     "name": "stdout",
     "output_type": "stream",
     "text": [
      "updated centroids:\n",
      " [[ 1.35350485 -0.94250585]\n",
      " [-3.95645957 -3.75298151]\n",
      " [ 2.96099879  3.71434239]\n",
      " [ 1.9908206  -3.07229969]]\n",
      "updated centroids:\n",
      " [[-1.58120333  1.8936735 ]\n",
      " [-3.6004491  -2.38537448]\n",
      " [ 1.27519329  3.17875518]\n",
      " [ 2.66260011 -3.01538247]]\n",
      "updated centroids:\n",
      " [[-2.46154315  2.78737555]\n",
      " [-3.53973889 -2.89384326]\n",
      " [ 2.6265299   3.10868015]\n",
      " [ 2.65077367 -2.79019029]]\n"
     ]
    },
    {
     "data": {
      "image/png": "[encoded data removed]",
      "text/plain": [
       "<Figure size 432x288 with 1 Axes>"
      ]
     },
     "metadata": {
      "needs_background": "light"
     },
     "output_type": "display_data"
    }
   ],
   "source": [
    "showPlt(dataMat)"
   ]
  }
 ],
 "metadata": {
  "kernelspec": {
   "display_name": "Python 3.7.5 64-bit ('base': conda)",
   "language": "python",
   "name": "python37564bitbasecondacabe272a08044a84b75cf17d4e6eefe5"
  },
  "language_info": {
   "codemirror_mode": {
    "name": "ipython",
    "version": 3
   },
   "file_extension": ".py",
   "mimetype": "text/x-python",
   "name": "python",
   "nbconvert_exporter": "python",
   "pygments_lexer": "ipython3",
   "version": "3.7.5"
  }
 },
 "nbformat": 4,
 "nbformat_minor": 2
}
